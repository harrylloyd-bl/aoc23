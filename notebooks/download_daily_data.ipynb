{
 "cells": [
  {
   "cell_type": "code",
   "execution_count": 1,
   "id": "1c370470-17bf-4129-9c76-ab1ece0fe0dd",
   "metadata": {},
   "outputs": [],
   "source": [
    "import sys\n",
    "if \"../\" not in sys.path:\n",
    "    sys.path.append(\"../\")\n",
    "import requests"
   ]
  },
  {
   "cell_type": "code",
   "execution_count": null,
   "id": "1c996b28-2f60-411f-970b-ca42d97022cb",
   "metadata": {},
   "outputs": [],
   "source": [
    "day = 15"
   ]
  },
  {
   "cell_type": "code",
   "execution_count": null,
   "id": "d554655a-fc77-4650-a0d4-2ea8ca35e765",
   "metadata": {},
   "outputs": [],
   "source": [
    "with open(\"..\\\\session_id.txt\", \"r\") as f:\n",
    "    session_id = f.read()\n",
    "\n",
    "headers = {\"user_agent\": \"Google Chrome\"}\n",
    "\n",
    "raw_data = requests.get(f\"https://adventofcode.com/2023/day/{day}/input\", cookies={\"session\":session_id}, headers=headers)"
   ]
  },
  {
   "cell_type": "code",
   "execution_count": null,
   "id": "23e7b746-5000-4c71-a721-8109ba8a9323",
   "metadata": {},
   "outputs": [],
   "source": [
    "with open(f\"..\\\\data\\\\raw\\\\{day}_01.txt\", \"w\") as f:\n",
    "    f.write(raw_data.text)"
   ]
  }
 ],
 "metadata": {
  "kernelspec": {
   "display_name": "Python [conda env:aoc3]",
   "language": "python",
   "name": "conda-env-aoc3-py"
  },
  "language_info": {
   "codemirror_mode": {
    "name": "ipython",
    "version": 3
   },
   "file_extension": ".py",
   "mimetype": "text/x-python",
   "name": "python",
   "nbconvert_exporter": "python",
   "pygments_lexer": "ipython3",
   "version": "3.12.0"
  }
 },
 "nbformat": 4,
 "nbformat_minor": 5
}
