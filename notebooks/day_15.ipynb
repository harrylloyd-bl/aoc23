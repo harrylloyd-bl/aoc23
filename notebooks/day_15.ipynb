{
 "cells": [
  {
   "cell_type": "code",
   "execution_count": null,
   "id": "e1fbd20f-31e0-4869-84d9-23b25207aa3e",
   "metadata": {},
   "outputs": [],
   "source": [
    "import sys\n",
    "if \"../\" not in sys.path:\n",
    "    sys.path.append(\"../\")"
   ]
  },
  {
   "cell_type": "markdown",
   "id": "ffa632c0-deb7-4300-a793-97be047a34d7",
   "metadata": {},
   "source": [
    "### Pt 1"
   ]
  },
  {
   "cell_type": "code",
   "execution_count": null,
   "id": "eaff5ce7-47fa-4f98-9881-0a6ab8e5ec26",
   "metadata": {},
   "outputs": [],
   "source": [
    "with open(f\"..\\\\data\\\\raw\\\\{day}_01.txt\", \"r\") as f:\n",
    "    raw_init = f.read()"
   ]
  },
  {
   "cell_type": "code",
   "execution_count": null,
   "id": "95dc84e7-8385-4492-ace7-5488ff6df026",
   "metadata": {},
   "outputs": [],
   "source": [
    "init_sequence = raw_init.replace(\"\\n\", \"\").split(\",\")"
   ]
  },
  {
   "cell_type": "code",
   "execution_count": null,
   "id": "478fbae1-6a1f-4648-ad05-6a3f6c0ca036",
   "metadata": {},
   "outputs": [],
   "source": [
    "def hash(str):\n",
    "    cv = 0\n",
    "    for i in list(str.encode(encoding=\"ascii\")):\n",
    "        cv += i\n",
    "        cv *= 17\n",
    "        cv %= 256\n",
    "    return cv"
   ]
  },
  {
   "cell_type": "code",
   "execution_count": null,
   "id": "42224d48-284f-4429-a270-0fe43da520c6",
   "metadata": {},
   "outputs": [],
   "source": [
    "ans = sum([hash(s) for s in init_sequence])\n",
    "ans"
   ]
  },
  {
   "cell_type": "markdown",
   "id": "339c9486-8123-4c2f-b352-6b0f9870c2e4",
   "metadata": {},
   "source": [
    "### Pt 2"
   ]
  },
  {
   "cell_type": "code",
   "execution_count": null,
   "id": "ee54ca29-6fc2-4d0f-b5d9-5bcb00bc3e27",
   "metadata": {},
   "outputs": [],
   "source": [
    "boxes = {x:{} for x in range(256)}"
   ]
  },
  {
   "cell_type": "code",
   "execution_count": null,
   "id": "69f5110d-bc74-4223-889a-956f3e6d7c2e",
   "metadata": {},
   "outputs": [],
   "source": [
    "def process_instruction(s, boxes):\n",
    "    if \"=\" in s:\n",
    "        label, fl = s.split(\"=\")\n",
    "        box = hash(label)\n",
    "        boxes[box][label] = int(fl)\n",
    "    if \"-\" in s:\n",
    "        box = hash(s[:-1])\n",
    "        boxes[box].pop(s[:-1], None)"
   ]
  },
  {
   "cell_type": "code",
   "execution_count": null,
   "id": "7f502d7a-9bdc-4e01-9904-09bfc2faf5f8",
   "metadata": {},
   "outputs": [],
   "source": [
    "[process_instruction(s, boxes) for s in init_sequence];"
   ]
  },
  {
   "cell_type": "code",
   "execution_count": 81,
   "id": "9bf5e9cf-2c7f-4b95-9fa8-236bab4a39fe",
   "metadata": {},
   "outputs": [],
   "source": [
    "def calc_fl(b_num, box):\n",
    "    fl_box = 0\n",
    "    for i, fl in enumerate(box.values()):\n",
    "        fl_box += (b_num + 1) * (i + 1) * fl\n",
    "    return fl_box"
   ]
  },
  {
   "cell_type": "code",
   "execution_count": 82,
   "id": "217cf0d2-6d24-4dbc-a57d-5915660a1873",
   "metadata": {},
   "outputs": [
    {
     "data": {
      "text/plain": [
       "213097"
      ]
     },
     "execution_count": 82,
     "metadata": {},
     "output_type": "execute_result"
    }
   ],
   "source": [
    "sum([calc_fl(b_num, box) for b_num, box in boxes.items()])"
   ]
  }
 ],
 "metadata": {
  "kernelspec": {
   "display_name": "Python [conda env:aoc3]",
   "language": "python",
   "name": "conda-env-aoc3-py"
  },
  "language_info": {
   "codemirror_mode": {
    "name": "ipython",
    "version": 3
   },
   "file_extension": ".py",
   "mimetype": "text/x-python",
   "name": "python",
   "nbconvert_exporter": "python",
   "pygments_lexer": "ipython3",
   "version": "3.12.0"
  }
 },
 "nbformat": 4,
 "nbformat_minor": 5
}
