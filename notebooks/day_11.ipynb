{
 "cells": [
  {
   "cell_type": "code",
   "execution_count": null,
   "id": "85d088f3-f133-43dd-af15-70a23a813f97",
   "metadata": {},
   "outputs": [],
   "source": [
    "import sys\n",
    "if \"../\" not in sys.path:\n",
    "    sys.path.append(\"../\")\n",
    "import requests\n",
    "import numpy as np"
   ]
  },
  {
   "cell_type": "markdown",
   "id": "518c8e67-80f5-463b-b121-aa16e0856c0d",
   "metadata": {},
   "source": [
    "### Pt 1"
   ]
  },
  {
   "cell_type": "code",
   "execution_count": null,
   "id": "80f2be56-0b3a-4bb3-980a-87f837ec3fdd",
   "metadata": {},
   "outputs": [],
   "source": [
    "day = 11"
   ]
  },
  {
   "cell_type": "code",
   "execution_count": null,
   "id": "00623c67-45d3-4687-9e0d-95e566d9d284",
   "metadata": {},
   "outputs": [],
   "source": [
    "# with open(\"..\\\\session_id.txt\", \"r\") as f:\n",
    "#     session_id = f.read()\n",
    "\n",
    "# headers = {\"user_agent\": \"Google Chrome\"}\n",
    "\n",
    "# raw_data = requests.get(f\"https://adventofcode.com/2023/day/{day}/input\", cookies={\"session\":session_id}, headers=headers)"
   ]
  },
  {
   "cell_type": "code",
   "execution_count": null,
   "id": "c67a233a-d853-4678-b7c0-b7a7214014cd",
   "metadata": {},
   "outputs": [],
   "source": [
    "# with open(f\"..\\\\data\\\\raw\\\\{day}_01.txt\", \"w\") as f:\n",
    "#     f.write(raw_data.text)"
   ]
  },
  {
   "cell_type": "code",
   "execution_count": null,
   "id": "b45fe437-3be2-4c0f-bb9b-5c9965a510d8",
   "metadata": {},
   "outputs": [],
   "source": [
    "with open(f\"..\\\\data\\\\raw\\\\{day}_01.txt\", \"r\") as f:\n",
    "    cosmos = f.read()"
   ]
  },
  {
   "cell_type": "code",
   "execution_count": null,
   "id": "94161b91-b990-49fa-800a-4c9b4c0639eb",
   "metadata": {},
   "outputs": [],
   "source": [
    "cosmos_num_str = cosmos.replace(\".\", \"0\").replace(\"#\", \"1\")\n",
    "cosmos_list = cosmos_num_str.split(\"\\n\")[:-1]  # one \\n on the end to remove\n",
    "cosmos_num_list = [[int(y) for y in x] for x in cosmos_list]"
   ]
  },
  {
   "cell_type": "code",
   "execution_count": null,
   "id": "73affe46-1bdf-40ba-8924-d538ec457244",
   "metadata": {},
   "outputs": [],
   "source": [
    "sum([len(x) == 140 for x in cosmos_num_list])"
   ]
  },
  {
   "cell_type": "code",
   "execution_count": null,
   "id": "0ebd00f4-f1bd-40dd-b96a-6ab5e84924df",
   "metadata": {},
   "outputs": [],
   "source": [
    "cosmos_arr = np.array(cosmos_num_list)"
   ]
  },
  {
   "cell_type": "code",
   "execution_count": null,
   "id": "ff629866-f080-4b25-a0e6-eae266b4dfad",
   "metadata": {},
   "outputs": [],
   "source": [
    "row_cumsum = (cosmos_arr.sum(axis=1) == 0).cumsum()\n",
    "col_cumsum = (cosmos_arr.sum(axis=0) == 0).cumsum()"
   ]
  },
  {
   "cell_type": "code",
   "execution_count": null,
   "id": "0a9c4484-4def-4888-ac24-c1b2ac43aea5",
   "metadata": {},
   "outputs": [],
   "source": [
    "id_num_arr = np.array([[x for y in range(len(cosmos_arr))] for x in range(len(cosmos_arr))])  # assumes square arr"
   ]
  },
  {
   "cell_type": "code",
   "execution_count": null,
   "id": "9129e1f6-bd74-4bf2-b624-11a88f9af309",
   "metadata": {},
   "outputs": [],
   "source": [
    "row_loc_arr = id_num_arr + np.broadcast_to(row_cumsum, (140,140)).T\n",
    "col_loc_arr = id_num_arr.T + np.broadcast_to(col_cumsum, (140,140))"
   ]
  },
  {
   "cell_type": "code",
   "execution_count": null,
   "id": "db3b7404-1a54-494f-b968-66e6ad82ee75",
   "metadata": {},
   "outputs": [],
   "source": [
    "row_idx = row_loc_arr[cosmos_arr == 1]\n",
    "col_idx = col_loc_arr[cosmos_arr == 1]"
   ]
  },
  {
   "cell_type": "code",
   "execution_count": null,
   "id": "03dd214b-6c74-4fa5-8eb8-363a2851c38b",
   "metadata": {},
   "outputs": [],
   "source": [
    "row_sum = 0\n",
    "for i, x in enumerate(row_idx):\n",
    "    row_sum += np.absolute((row_idx[i:] - x)).sum()\n",
    "\n",
    "col_sum = 0\n",
    "for i, x in enumerate(col_idx):\n",
    "    col_sum += np.absolute((col_idx[i:] - x)).sum()"
   ]
  },
  {
   "cell_type": "code",
   "execution_count": null,
   "id": "b5656c92-50ef-43e6-981c-fe973b0e4095",
   "metadata": {},
   "outputs": [],
   "source": [
    "col_sum + row_sum"
   ]
  },
  {
   "cell_type": "markdown",
   "id": "63ad657c-bdc3-4254-b989-672839dff699",
   "metadata": {},
   "source": [
    "### Pt 2"
   ]
  },
  {
   "cell_type": "markdown",
   "id": "9bfaaf88-b0a5-4a2a-b3d6-dcf63b3a7802",
   "metadata": {},
   "source": [
    "Pt 1 says that any empty rows/cols have expanded two 2 empty rows/cols. Pt 2 says that empty rows/cols have expanded to 1000000 empty rows cols, fortunately because we've done cumsums this is fine, we just need to multiply up the cumsums by a million."
   ]
  },
  {
   "cell_type": "code",
   "execution_count": null,
   "id": "7a4f25af-0210-4661-be28-38c2564b5c93",
   "metadata": {},
   "outputs": [],
   "source": [
    "row_cumsum_pt2 = (cosmos_arr.sum(axis=1) == 0).cumsum() * 999999\n",
    "col_cumsum_pt2 = (cosmos_arr.sum(axis=0) == 0).cumsum() * 999999"
   ]
  },
  {
   "cell_type": "code",
   "execution_count": null,
   "id": "057c3e57-8f0c-426d-9fca-a185c4e62571",
   "metadata": {},
   "outputs": [],
   "source": [
    "row_loc_arr_pt2 = id_num_arr + np.broadcast_to(row_cumsum_pt2, (140,140)).T\n",
    "col_loc_arr_pt2 = id_num_arr.T + np.broadcast_to(col_cumsum_pt2, (140,140))"
   ]
  },
  {
   "cell_type": "code",
   "execution_count": null,
   "id": "e0db2f68-88b1-438c-8fbd-35daa51056f9",
   "metadata": {},
   "outputs": [],
   "source": [
    "row_idx_pt2 = row_loc_arr_pt2[cosmos_arr == 1].astype(\"int64\")\n",
    "col_idx_pt2 = col_loc_arr_pt2[cosmos_arr == 1].astype(\"int64\")"
   ]
  },
  {
   "cell_type": "code",
   "execution_count": null,
   "id": "3bc12498-5981-4702-b13a-2df43c483a7c",
   "metadata": {},
   "outputs": [],
   "source": [
    "row_sum_pt2 = 0\n",
    "for i, x in enumerate(row_idx_pt2):\n",
    "    row_sum_pt2 += np.absolute((row_idx_pt2[i:] - x)).sum()"
   ]
  },
  {
   "cell_type": "code",
   "execution_count": null,
   "id": "f940f56d-6a77-404c-862f-235c4bf246b2",
   "metadata": {},
   "outputs": [],
   "source": [
    "col_sum_pt2 = 0\n",
    "for i, x in enumerate(col_idx_pt2):\n",
    "    col_sum_pt2 += np.absolute((col_idx_pt2[i:] - x)).sum()"
   ]
  },
  {
   "cell_type": "code",
   "execution_count": null,
   "id": "838f7d60-bfe6-4a7a-ae34-821ecfb688cd",
   "metadata": {},
   "outputs": [],
   "source": [
    "row_sum_pt2 + col_sum_pt2"
   ]
  }
 ],
 "metadata": {
  "kernelspec": {
   "display_name": "Python [conda env:aoc3]",
   "language": "python",
   "name": "conda-env-aoc3-py"
  },
  "language_info": {
   "codemirror_mode": {
    "name": "ipython",
    "version": 3
   },
   "file_extension": ".py",
   "mimetype": "text/x-python",
   "name": "python",
   "nbconvert_exporter": "python",
   "pygments_lexer": "ipython3",
   "version": "3.12.0"
  }
 },
 "nbformat": 4,
 "nbformat_minor": 5
}
