{
 "cells": [
  {
   "cell_type": "code",
   "execution_count": null,
   "id": "5bed277b",
   "metadata": {},
   "outputs": [],
   "source": [
    "import sys\n",
    "if \"../\" not in sys.path:\n",
    "    sys.path.append(\"../\")\n",
    "import requests\n",
    "import re"
   ]
  },
  {
   "cell_type": "code",
   "execution_count": null,
   "id": "b5fe7211",
   "metadata": {},
   "outputs": [],
   "source": [
    "# with open(\"..\\\\session_id.txt\", \"r\") as f:\n",
    "#     session_id = f.read()\n",
    "\n",
    "# headers = {\"user_agent\": \"Google Chrome\"}\n",
    "\n",
    "# raw_data = requests.get(\"https://adventofcode.com/2023/day/1/input\", cookies={\"session\":session_id}, headers=headers)\n",
    "\n",
    "# with open(\"..\\\\data\\\\raw\\\\01_01.txt\", \"w\") as f:\n",
    "#     f.write(raw_data)"
   ]
  },
  {
   "cell_type": "code",
   "execution_count": null,
   "id": "e224cdd6",
   "metadata": {},
   "outputs": [],
   "source": [
    "with open(\"..\\\\data\\\\raw\\\\01_01.txt\", \"r\") as f:\n",
    "    scrambled_cal_vals = f.read()"
   ]
  },
  {
   "cell_type": "markdown",
   "id": "b9b5e29f",
   "metadata": {},
   "source": [
    "#### Pt 1"
   ]
  },
  {
   "cell_type": "code",
   "execution_count": null,
   "id": "73c2be84",
   "metadata": {},
   "outputs": [],
   "source": [
    "digit_re = re.compile(r\"\\d\")\n",
    "digits = [digit_re.findall(s) for s in scrambled_cal_vals.split(\"\\n\")]\n",
    "cal_vals = list()\n",
    "for x in digits:\n",
    "    if not x:\n",
    "        continue\n",
    "    else:\n",
    "        cal_vals.append(int(x[0] + x[-1]))"
   ]
  },
  {
   "cell_type": "code",
   "execution_count": null,
   "id": "f0d82bfe",
   "metadata": {},
   "outputs": [],
   "source": [
    "sum(cal_vals)"
   ]
  },
  {
   "cell_type": "markdown",
   "id": "d497df6f",
   "metadata": {},
   "source": [
    "#### Pt 2"
   ]
  },
  {
   "cell_type": "code",
   "execution_count": null,
   "id": "2d45aa79",
   "metadata": {},
   "outputs": [],
   "source": [
    "digit_dict = {\n",
    "    'ne': \"1\",\n",
    "    'wo': \"2\",\n",
    "    'hree': \"3\",\n",
    "    'four': \"4\",\n",
    "    'five': \"5\",\n",
    "    'six': \"6\",\n",
    "    'seven': \"7\",\n",
    "    'ight': \"8\",\n",
    "    'ine': \"9\"\n",
    "}"
   ]
  },
  {
   "cell_type": "code",
   "execution_count": null,
   "id": "65f394dd",
   "metadata": {},
   "outputs": [],
   "source": [
    "pt2_re = re.compile(r\"\\d|(?<=o)ne|(?<=t)wo|(?<=t)hree|four|five|six|seven|(?<=e)ight|(?<=n)ine\")\n",
    "digits_pt2 = [pt2_re.findall(s) for s in scrambled_cal_vals.split(\"\\n\")]\n",
    "\n",
    "cal_vals_pt2 = list()\n",
    "for x in digits_pt2:\n",
    "    if not x:\n",
    "        continue\n",
    "    else:\n",
    "        first, last = digit_dict.get(x[0], x[0]), digit_dict.get(x[-1], x[-1])\n",
    "        cal_vals_pt2.append(int(first + last))"
   ]
  },
  {
   "cell_type": "code",
   "execution_count": null,
   "id": "33a14888",
   "metadata": {},
   "outputs": [],
   "source": [
    "sum(cal_vals_pt2)"
   ]
  }
 ],
 "metadata": {
  "kernelspec": {
   "display_name": "Python [conda env:aoc3]",
   "language": "python",
   "name": "conda-env-aoc3-py"
  },
  "language_info": {
   "codemirror_mode": {
    "name": "ipython",
    "version": 3
   },
   "file_extension": ".py",
   "mimetype": "text/x-python",
   "name": "python",
   "nbconvert_exporter": "python",
   "pygments_lexer": "ipython3",
   "version": "3.12.0"
  }
 },
 "nbformat": 4,
 "nbformat_minor": 5
}
